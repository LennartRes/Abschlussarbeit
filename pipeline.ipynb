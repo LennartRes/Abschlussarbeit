{
 "cells": [
  {
   "cell_type": "code",
   "execution_count": 3,
   "metadata": {},
   "outputs": [],
   "source": [
    "import os\n",
    "import pandas as pd\n",
    "import numpy as np\n",
    "import matplotlib.pyplot as plt\n",
    "from sklearn.model_selection import cross_val_score, train_test_split\n",
    "from sklearn.preprocessing import OneHotEncoder, StandardScaler\n",
    "from sklearn.compose import ColumnTransformer\n",
    "from sklearn import svm\n",
    "from sklearn.pipeline import Pipeline\n",
    "from pandas_profiling import ProfileReport\n",
    "from sklearn.linear_model import LogisticRegression\n",
    "from sklearn.neighbors import KNeighborsClassifier"
   ]
  },
  {
   "cell_type": "code",
   "execution_count": 4,
   "metadata": {},
   "outputs": [],
   "source": [
    "URL = \"https://datahub.io/machine-learning/adult/r/adult.csv\"\n",
    "\n",
    "raw_data = os.path.join(\"adult_csv.csv\")\n",
    "df_raw = pd.read_csv(raw_data, sep = \",\")"
   ]
  },
  {
   "cell_type": "code",
   "execution_count": 6,
   "metadata": {},
   "outputs": [],
   "source": [
    "from sklearn.preprocessing import MinMaxScaler, QuantileTransformer, RobustScaler, StandardScaler"
   ]
  },
  {
   "cell_type": "code",
   "execution_count": 7,
   "metadata": {},
   "outputs": [],
   "source": [
    "workclass_count = df_raw[\"workclass\"].value_counts()\n",
    "Nan_workclass = workclass_count[workclass_count < 100].index.to_list()"
   ]
  },
  {
   "cell_type": "code",
   "execution_count": 8,
   "metadata": {},
   "outputs": [],
   "source": [
    "df_raw[\"workclass\"] = df_raw[\"workclass\"].astype(\"object\")\n",
    "df_raw.loc[df_raw.query(f\"workclass == @Nan_workclass\").index, \"workclass\"] = \"None\""
   ]
  },
  {
   "cell_type": "code",
   "execution_count": 9,
   "metadata": {},
   "outputs": [
    {
     "data": {
      "text/plain": [
       "Private             33906\n",
       "Self-emp-not-inc     3862\n",
       "Local-gov            3136\n",
       "State-gov            1981\n",
       "Self-emp-inc         1695\n",
       "Federal-gov          1432\n",
       "None                   31\n",
       "Name: workclass, dtype: int64"
      ]
     },
     "execution_count": 9,
     "metadata": {},
     "output_type": "execute_result"
    }
   ],
   "source": [
    "df_raw[\"workclass\"].value_counts()"
   ]
  },
  {
   "cell_type": "code",
   "execution_count": 10,
   "metadata": {},
   "outputs": [],
   "source": [
    "df_raw.rename(columns={\"marital-status\":\"marital_status\"}, inplace=True)"
   ]
  },
  {
   "cell_type": "code",
   "execution_count": 11,
   "metadata": {},
   "outputs": [],
   "source": [
    "marital_status_count = df_raw[\"marital_status\"].value_counts()\n",
    "rare_marital_status = marital_status_count[marital_status_count < 1000].index.to_list()"
   ]
  },
  {
   "cell_type": "code",
   "execution_count": 12,
   "metadata": {},
   "outputs": [
    {
     "data": {
      "text/plain": [
       "['Married-spouse-absent', 'Married-AF-spouse']"
      ]
     },
     "execution_count": 12,
     "metadata": {},
     "output_type": "execute_result"
    }
   ],
   "source": [
    "rare_marital_status"
   ]
  },
  {
   "cell_type": "code",
   "execution_count": 13,
   "metadata": {},
   "outputs": [],
   "source": [
    "df_raw[\"marital_status\"] = df_raw[\"marital_status\"].astype(\"object\")\n",
    "df_raw.loc[df_raw.query(f\"marital_status == @rare_marital_status\").index, \"marital_status\"] = \"Married-civ-spouse\""
   ]
  },
  {
   "cell_type": "markdown",
   "metadata": {},
   "source": [
    "### Pipeline Start"
   ]
  },
  {
   "cell_type": "code",
   "execution_count": 67,
   "metadata": {},
   "outputs": [],
   "source": [
    "from sklearn.base import BaseEstimator, TransformerMixin\n",
    "from sklearn.compose import ColumnTransformer\n",
    "from sklearn.decomposition import PCA\n",
    "from sklearn.model_selection import cross_val_score, train_test_split\n",
    "from sklearn.pipeline import Pipeline\n",
    "from sklearn.preprocessing import OneHotEncoder, StandardScaler\n",
    "from sklearn.tree import DecisionTreeClassifier\n",
    "from sklearn.linear_model import SGDClassifier, LogisticRegression, Perceptron, PassiveAggressiveClassifier\n",
    "from sklearn.ensemble import RandomForestClassifier\n",
    "from sklearn.svm import SVC\n",
    "from sklearn.cluster import KMeans\n",
    "from sklearn.neighbors import KNeighborsClassifier, NearestCentroid, RadiusNeighborsClassifier\n",
    "\n",
    "import time"
   ]
  },
  {
   "cell_type": "code",
   "execution_count": 74,
   "metadata": {},
   "outputs": [
    {
     "data": {
      "text/html": [
       "<div>\n",
       "<style scoped>\n",
       "    .dataframe tbody tr th:only-of-type {\n",
       "        vertical-align: middle;\n",
       "    }\n",
       "\n",
       "    .dataframe tbody tr th {\n",
       "        vertical-align: top;\n",
       "    }\n",
       "\n",
       "    .dataframe thead th {\n",
       "        text-align: right;\n",
       "    }\n",
       "</style>\n",
       "<table border=\"1\" class=\"dataframe\">\n",
       "  <thead>\n",
       "    <tr style=\"text-align: right;\">\n",
       "      <th></th>\n",
       "      <th>class_train_perc</th>\n",
       "    </tr>\n",
       "  </thead>\n",
       "  <tbody>\n",
       "    <tr>\n",
       "      <th>&lt;=50K</th>\n",
       "      <td>0.759111</td>\n",
       "    </tr>\n",
       "    <tr>\n",
       "      <th>&gt;50K</th>\n",
       "      <td>0.240889</td>\n",
       "    </tr>\n",
       "  </tbody>\n",
       "</table>\n",
       "</div>"
      ],
      "text/plain": [
       "       class_train_perc\n",
       "<=50K          0.759111\n",
       ">50K           0.240889"
      ]
     },
     "metadata": {},
     "output_type": "display_data"
    }
   ],
   "source": [
    "train_data, test_data = train_test_split(df_raw, test_size=0.8, random_state=42)\n",
    "train_dist = pd.DataFrame(train_data[\"class\"].value_counts() / len(train_data))\n",
    "train_dist.columns = [\"class_train_perc\"]\n",
    "display(train_dist[:2])"
   ]
  },
  {
   "cell_type": "code",
   "execution_count": 53,
   "metadata": {},
   "outputs": [],
   "source": [
    "num_features = [\"fnlwgt\", \"education-num\"]\n",
    "cat_features = [\"age\", \"workclass\", \"education\", \"marital_status\", \"occupation\", \"relationship\", \"race\", \"sex\", \"capitalgain\", \"capitalloss\", \"hoursperweek\", \"native-country\"]\n",
    "\n",
    "y = [\"class\"]\n",
    "X = [*num_features, *cat_features]"
   ]
  },
  {
   "cell_type": "code",
   "execution_count": 40,
   "metadata": {},
   "outputs": [
    {
     "data": {
      "text/plain": [
       "United-States                 8754\n",
       "Mexico                         184\n",
       "Philippines                     64\n",
       "Germany                         48\n",
       "Puerto-Rico                     38\n",
       "Canada                          35\n",
       "China                           29\n",
       "India                           29\n",
       "El-Salvador                     26\n",
       "South                           25\n",
       "Cuba                            24\n",
       "England                         23\n",
       "Italy                           20\n",
       "Guatemala                       20\n",
       "Haiti                           20\n",
       "Dominican-Republic              20\n",
       "Columbia                        18\n",
       "Jamaica                         16\n",
       "Poland                          15\n",
       "Ecuador                         15\n",
       "Taiwan                          15\n",
       "Japan                           14\n",
       "Vietnam                         13\n",
       "Portugal                        13\n",
       "Nicaragua                       12\n",
       "Iran                            11\n",
       "Ireland                         10\n",
       "Greece                           9\n",
       "Peru                             9\n",
       "Trinadad&Tobago                  8\n",
       "Laos                             8\n",
       "Scotland                         7\n",
       "Thailand                         7\n",
       "Hungary                          6\n",
       "Yugoslavia                       6\n",
       "Outlying-US(Guam-USVI-etc)       5\n",
       "Honduras                         5\n",
       "France                           4\n",
       "Cambodia                         4\n",
       "Hong                             3\n",
       "Name: native-country, dtype: int64"
      ]
     },
     "execution_count": 40,
     "metadata": {},
     "output_type": "execute_result"
    }
   ],
   "source": [
    "train_data[\"native-country\"].value_counts()"
   ]
  },
  {
   "cell_type": "code",
   "execution_count": 39,
   "metadata": {},
   "outputs": [
    {
     "data": {
      "text/plain": [
       "United-States                 43832\n",
       "Mexico                          951\n",
       "Philippines                     295\n",
       "Germany                         206\n",
       "Puerto-Rico                     184\n",
       "Canada                          182\n",
       "El-Salvador                     155\n",
       "India                           151\n",
       "Cuba                            138\n",
       "England                         127\n",
       "China                           122\n",
       "South                           115\n",
       "Jamaica                         106\n",
       "Italy                           105\n",
       "Dominican-Republic              103\n",
       "Japan                            92\n",
       "Guatemala                        88\n",
       "Poland                           87\n",
       "Vietnam                          86\n",
       "Columbia                         85\n",
       "Haiti                            75\n",
       "Portugal                         67\n",
       "Taiwan                           65\n",
       "Iran                             59\n",
       "Greece                           49\n",
       "Nicaragua                        49\n",
       "Peru                             46\n",
       "Ecuador                          45\n",
       "France                           38\n",
       "Ireland                          37\n",
       "Hong                             30\n",
       "Thailand                         30\n",
       "Cambodia                         28\n",
       "Trinadad&Tobago                  27\n",
       "Laos                             23\n",
       "Yugoslavia                       23\n",
       "Outlying-US(Guam-USVI-etc)       23\n",
       "Scotland                         21\n",
       "Honduras                         20\n",
       "Hungary                          19\n",
       "Holand-Netherlands                1\n",
       "Name: native-country, dtype: int64"
      ]
     },
     "execution_count": 39,
     "metadata": {},
     "output_type": "execute_result"
    }
   ],
   "source": [
    "df_raw[\"native-country\"].value_counts()"
   ]
  },
  {
   "cell_type": "code",
   "execution_count": 50,
   "metadata": {},
   "outputs": [],
   "source": [
    "indexNames = df_raw[df_raw['native-country'] == 'Holand-Netherlands'].index\n",
    "\n",
    "df_raw.drop(indexNames , inplace=True)"
   ]
  },
  {
   "cell_type": "code",
   "execution_count": 51,
   "metadata": {},
   "outputs": [
    {
     "data": {
      "text/plain": [
       "United-States                 43832\n",
       "Mexico                          951\n",
       "Philippines                     295\n",
       "Germany                         206\n",
       "Puerto-Rico                     184\n",
       "Canada                          182\n",
       "El-Salvador                     155\n",
       "India                           151\n",
       "Cuba                            138\n",
       "England                         127\n",
       "China                           122\n",
       "South                           115\n",
       "Jamaica                         106\n",
       "Italy                           105\n",
       "Dominican-Republic              103\n",
       "Japan                            92\n",
       "Guatemala                        88\n",
       "Poland                           87\n",
       "Vietnam                          86\n",
       "Columbia                         85\n",
       "Haiti                            75\n",
       "Portugal                         67\n",
       "Taiwan                           65\n",
       "Iran                             59\n",
       "Nicaragua                        49\n",
       "Greece                           49\n",
       "Peru                             46\n",
       "Ecuador                          45\n",
       "France                           38\n",
       "Ireland                          37\n",
       "Thailand                         30\n",
       "Hong                             30\n",
       "Cambodia                         28\n",
       "Trinadad&Tobago                  27\n",
       "Laos                             23\n",
       "Outlying-US(Guam-USVI-etc)       23\n",
       "Yugoslavia                       23\n",
       "Scotland                         21\n",
       "Honduras                         20\n",
       "Hungary                          19\n",
       "Name: native-country, dtype: int64"
      ]
     },
     "execution_count": 51,
     "metadata": {},
     "output_type": "execute_result"
    }
   ],
   "source": [
    "df_raw[\"native-country\"].value_counts()"
   ]
  },
  {
   "cell_type": "code",
   "execution_count": 58,
   "metadata": {},
   "outputs": [],
   "source": [
    "scalers = [StandardScaler(), MinMaxScaler(), RobustScaler()]\n",
    "cat_transformers = [OneHotEncoder()]"
   ]
  },
  {
   "cell_type": "code",
   "execution_count": 59,
   "metadata": {},
   "outputs": [],
   "source": [
    "transformer_numerical = Pipeline(steps = [\n",
    "    ('num_trans', StandardScaler())\n",
    "])\n",
    "transformer_categorical = Pipeline(steps = [\n",
    "    ('cat_trans', OneHotEncoder())\n",
    "])"
   ]
  },
  {
   "cell_type": "code",
   "execution_count": 60,
   "metadata": {},
   "outputs": [],
   "source": [
    "preprocessor = ColumnTransformer(transformers= [\n",
    "    ('numerical', transformer_numerical, num_features),\n",
    "    ('categorical', transformer_categorical, cat_features)\n",
    "])"
   ]
  },
  {
   "cell_type": "code",
   "execution_count": 61,
   "metadata": {},
   "outputs": [],
   "source": [
    "pipeline_test = Pipeline( steps=[\n",
    "    ('preprocessor', preprocessor),\n",
    "    ('classifier', DecisionTreeClassifier())    \n",
    "    ])"
   ]
  },
  {
   "cell_type": "code",
   "execution_count": 62,
   "metadata": {},
   "outputs": [
    {
     "data": {
      "text/html": [
       "<style>#sk-container-id-2 {color: black;background-color: white;}#sk-container-id-2 pre{padding: 0;}#sk-container-id-2 div.sk-toggleable {background-color: white;}#sk-container-id-2 label.sk-toggleable__label {cursor: pointer;display: block;width: 100%;margin-bottom: 0;padding: 0.3em;box-sizing: border-box;text-align: center;}#sk-container-id-2 label.sk-toggleable__label-arrow:before {content: \"▸\";float: left;margin-right: 0.25em;color: #696969;}#sk-container-id-2 label.sk-toggleable__label-arrow:hover:before {color: black;}#sk-container-id-2 div.sk-estimator:hover label.sk-toggleable__label-arrow:before {color: black;}#sk-container-id-2 div.sk-toggleable__content {max-height: 0;max-width: 0;overflow: hidden;text-align: left;background-color: #f0f8ff;}#sk-container-id-2 div.sk-toggleable__content pre {margin: 0.2em;color: black;border-radius: 0.25em;background-color: #f0f8ff;}#sk-container-id-2 input.sk-toggleable__control:checked~div.sk-toggleable__content {max-height: 200px;max-width: 100%;overflow: auto;}#sk-container-id-2 input.sk-toggleable__control:checked~label.sk-toggleable__label-arrow:before {content: \"▾\";}#sk-container-id-2 div.sk-estimator input.sk-toggleable__control:checked~label.sk-toggleable__label {background-color: #d4ebff;}#sk-container-id-2 div.sk-label input.sk-toggleable__control:checked~label.sk-toggleable__label {background-color: #d4ebff;}#sk-container-id-2 input.sk-hidden--visually {border: 0;clip: rect(1px 1px 1px 1px);clip: rect(1px, 1px, 1px, 1px);height: 1px;margin: -1px;overflow: hidden;padding: 0;position: absolute;width: 1px;}#sk-container-id-2 div.sk-estimator {font-family: monospace;background-color: #f0f8ff;border: 1px dotted black;border-radius: 0.25em;box-sizing: border-box;margin-bottom: 0.5em;}#sk-container-id-2 div.sk-estimator:hover {background-color: #d4ebff;}#sk-container-id-2 div.sk-parallel-item::after {content: \"\";width: 100%;border-bottom: 1px solid gray;flex-grow: 1;}#sk-container-id-2 div.sk-label:hover label.sk-toggleable__label {background-color: #d4ebff;}#sk-container-id-2 div.sk-serial::before {content: \"\";position: absolute;border-left: 1px solid gray;box-sizing: border-box;top: 0;bottom: 0;left: 50%;z-index: 0;}#sk-container-id-2 div.sk-serial {display: flex;flex-direction: column;align-items: center;background-color: white;padding-right: 0.2em;padding-left: 0.2em;position: relative;}#sk-container-id-2 div.sk-item {position: relative;z-index: 1;}#sk-container-id-2 div.sk-parallel {display: flex;align-items: stretch;justify-content: center;background-color: white;position: relative;}#sk-container-id-2 div.sk-item::before, #sk-container-id-2 div.sk-parallel-item::before {content: \"\";position: absolute;border-left: 1px solid gray;box-sizing: border-box;top: 0;bottom: 0;left: 50%;z-index: -1;}#sk-container-id-2 div.sk-parallel-item {display: flex;flex-direction: column;z-index: 1;position: relative;background-color: white;}#sk-container-id-2 div.sk-parallel-item:first-child::after {align-self: flex-end;width: 50%;}#sk-container-id-2 div.sk-parallel-item:last-child::after {align-self: flex-start;width: 50%;}#sk-container-id-2 div.sk-parallel-item:only-child::after {width: 0;}#sk-container-id-2 div.sk-dashed-wrapped {border: 1px dashed gray;margin: 0 0.4em 0.5em 0.4em;box-sizing: border-box;padding-bottom: 0.4em;background-color: white;}#sk-container-id-2 div.sk-label label {font-family: monospace;font-weight: bold;display: inline-block;line-height: 1.2em;}#sk-container-id-2 div.sk-label-container {text-align: center;}#sk-container-id-2 div.sk-container {/* jupyter's `normalize.less` sets `[hidden] { display: none; }` but bootstrap.min.css set `[hidden] { display: none !important; }` so we also need the `!important` here to be able to override the default hidden behavior on the sphinx rendered scikit-learn.org. See: https://github.com/scikit-learn/scikit-learn/issues/21755 */display: inline-block !important;position: relative;}#sk-container-id-2 div.sk-text-repr-fallback {display: none;}</style><div id=\"sk-container-id-2\" class=\"sk-top-container\"><div class=\"sk-text-repr-fallback\"><pre>Pipeline(steps=[(&#x27;preprocessor&#x27;,\n",
       "                 ColumnTransformer(transformers=[(&#x27;numerical&#x27;,\n",
       "                                                  Pipeline(steps=[(&#x27;num_trans&#x27;,\n",
       "                                                                   StandardScaler())]),\n",
       "                                                  [&#x27;fnlwgt&#x27;, &#x27;education-num&#x27;]),\n",
       "                                                 (&#x27;categorical&#x27;,\n",
       "                                                  Pipeline(steps=[(&#x27;cat_trans&#x27;,\n",
       "                                                                   OneHotEncoder())]),\n",
       "                                                  [&#x27;age&#x27;, &#x27;workclass&#x27;,\n",
       "                                                   &#x27;education&#x27;,\n",
       "                                                   &#x27;marital_status&#x27;,\n",
       "                                                   &#x27;occupation&#x27;, &#x27;relationship&#x27;,\n",
       "                                                   &#x27;race&#x27;, &#x27;sex&#x27;, &#x27;capitalgain&#x27;,\n",
       "                                                   &#x27;capitalloss&#x27;,\n",
       "                                                   &#x27;hoursperweek&#x27;,\n",
       "                                                   &#x27;native-country&#x27;])])),\n",
       "                (&#x27;classifier&#x27;, DecisionTreeClassifier())])</pre><b>In a Jupyter environment, please rerun this cell to show the HTML representation or trust the notebook. <br />On GitHub, the HTML representation is unable to render, please try loading this page with nbviewer.org.</b></div><div class=\"sk-container\" hidden><div class=\"sk-item sk-dashed-wrapped\"><div class=\"sk-label-container\"><div class=\"sk-label sk-toggleable\"><input class=\"sk-toggleable__control sk-hidden--visually\" id=\"sk-estimator-id-8\" type=\"checkbox\" ><label for=\"sk-estimator-id-8\" class=\"sk-toggleable__label sk-toggleable__label-arrow\">Pipeline</label><div class=\"sk-toggleable__content\"><pre>Pipeline(steps=[(&#x27;preprocessor&#x27;,\n",
       "                 ColumnTransformer(transformers=[(&#x27;numerical&#x27;,\n",
       "                                                  Pipeline(steps=[(&#x27;num_trans&#x27;,\n",
       "                                                                   StandardScaler())]),\n",
       "                                                  [&#x27;fnlwgt&#x27;, &#x27;education-num&#x27;]),\n",
       "                                                 (&#x27;categorical&#x27;,\n",
       "                                                  Pipeline(steps=[(&#x27;cat_trans&#x27;,\n",
       "                                                                   OneHotEncoder())]),\n",
       "                                                  [&#x27;age&#x27;, &#x27;workclass&#x27;,\n",
       "                                                   &#x27;education&#x27;,\n",
       "                                                   &#x27;marital_status&#x27;,\n",
       "                                                   &#x27;occupation&#x27;, &#x27;relationship&#x27;,\n",
       "                                                   &#x27;race&#x27;, &#x27;sex&#x27;, &#x27;capitalgain&#x27;,\n",
       "                                                   &#x27;capitalloss&#x27;,\n",
       "                                                   &#x27;hoursperweek&#x27;,\n",
       "                                                   &#x27;native-country&#x27;])])),\n",
       "                (&#x27;classifier&#x27;, DecisionTreeClassifier())])</pre></div></div></div><div class=\"sk-serial\"><div class=\"sk-item sk-dashed-wrapped\"><div class=\"sk-label-container\"><div class=\"sk-label sk-toggleable\"><input class=\"sk-toggleable__control sk-hidden--visually\" id=\"sk-estimator-id-9\" type=\"checkbox\" ><label for=\"sk-estimator-id-9\" class=\"sk-toggleable__label sk-toggleable__label-arrow\">preprocessor: ColumnTransformer</label><div class=\"sk-toggleable__content\"><pre>ColumnTransformer(transformers=[(&#x27;numerical&#x27;,\n",
       "                                 Pipeline(steps=[(&#x27;num_trans&#x27;,\n",
       "                                                  StandardScaler())]),\n",
       "                                 [&#x27;fnlwgt&#x27;, &#x27;education-num&#x27;]),\n",
       "                                (&#x27;categorical&#x27;,\n",
       "                                 Pipeline(steps=[(&#x27;cat_trans&#x27;,\n",
       "                                                  OneHotEncoder())]),\n",
       "                                 [&#x27;age&#x27;, &#x27;workclass&#x27;, &#x27;education&#x27;,\n",
       "                                  &#x27;marital_status&#x27;, &#x27;occupation&#x27;,\n",
       "                                  &#x27;relationship&#x27;, &#x27;race&#x27;, &#x27;sex&#x27;, &#x27;capitalgain&#x27;,\n",
       "                                  &#x27;capitalloss&#x27;, &#x27;hoursperweek&#x27;,\n",
       "                                  &#x27;native-country&#x27;])])</pre></div></div></div><div class=\"sk-parallel\"><div class=\"sk-parallel-item\"><div class=\"sk-item\"><div class=\"sk-label-container\"><div class=\"sk-label sk-toggleable\"><input class=\"sk-toggleable__control sk-hidden--visually\" id=\"sk-estimator-id-10\" type=\"checkbox\" ><label for=\"sk-estimator-id-10\" class=\"sk-toggleable__label sk-toggleable__label-arrow\">numerical</label><div class=\"sk-toggleable__content\"><pre>[&#x27;fnlwgt&#x27;, &#x27;education-num&#x27;]</pre></div></div></div><div class=\"sk-serial\"><div class=\"sk-item\"><div class=\"sk-serial\"><div class=\"sk-item\"><div class=\"sk-estimator sk-toggleable\"><input class=\"sk-toggleable__control sk-hidden--visually\" id=\"sk-estimator-id-11\" type=\"checkbox\" ><label for=\"sk-estimator-id-11\" class=\"sk-toggleable__label sk-toggleable__label-arrow\">StandardScaler</label><div class=\"sk-toggleable__content\"><pre>StandardScaler()</pre></div></div></div></div></div></div></div></div><div class=\"sk-parallel-item\"><div class=\"sk-item\"><div class=\"sk-label-container\"><div class=\"sk-label sk-toggleable\"><input class=\"sk-toggleable__control sk-hidden--visually\" id=\"sk-estimator-id-12\" type=\"checkbox\" ><label for=\"sk-estimator-id-12\" class=\"sk-toggleable__label sk-toggleable__label-arrow\">categorical</label><div class=\"sk-toggleable__content\"><pre>[&#x27;age&#x27;, &#x27;workclass&#x27;, &#x27;education&#x27;, &#x27;marital_status&#x27;, &#x27;occupation&#x27;, &#x27;relationship&#x27;, &#x27;race&#x27;, &#x27;sex&#x27;, &#x27;capitalgain&#x27;, &#x27;capitalloss&#x27;, &#x27;hoursperweek&#x27;, &#x27;native-country&#x27;]</pre></div></div></div><div class=\"sk-serial\"><div class=\"sk-item\"><div class=\"sk-serial\"><div class=\"sk-item\"><div class=\"sk-estimator sk-toggleable\"><input class=\"sk-toggleable__control sk-hidden--visually\" id=\"sk-estimator-id-13\" type=\"checkbox\" ><label for=\"sk-estimator-id-13\" class=\"sk-toggleable__label sk-toggleable__label-arrow\">OneHotEncoder</label><div class=\"sk-toggleable__content\"><pre>OneHotEncoder()</pre></div></div></div></div></div></div></div></div></div></div><div class=\"sk-item\"><div class=\"sk-estimator sk-toggleable\"><input class=\"sk-toggleable__control sk-hidden--visually\" id=\"sk-estimator-id-14\" type=\"checkbox\" ><label for=\"sk-estimator-id-14\" class=\"sk-toggleable__label sk-toggleable__label-arrow\">DecisionTreeClassifier</label><div class=\"sk-toggleable__content\"><pre>DecisionTreeClassifier()</pre></div></div></div></div></div></div></div>"
      ],
      "text/plain": [
       "Pipeline(steps=[('preprocessor',\n",
       "                 ColumnTransformer(transformers=[('numerical',\n",
       "                                                  Pipeline(steps=[('num_trans',\n",
       "                                                                   StandardScaler())]),\n",
       "                                                  ['fnlwgt', 'education-num']),\n",
       "                                                 ('categorical',\n",
       "                                                  Pipeline(steps=[('cat_trans',\n",
       "                                                                   OneHotEncoder())]),\n",
       "                                                  ['age', 'workclass',\n",
       "                                                   'education',\n",
       "                                                   'marital_status',\n",
       "                                                   'occupation', 'relationship',\n",
       "                                                   'race', 'sex', 'capitalgain',\n",
       "                                                   'capitalloss',\n",
       "                                                   'hoursperweek',\n",
       "                                                   'native-country'])])),\n",
       "                ('classifier', DecisionTreeClassifier())])"
      ]
     },
     "execution_count": 62,
     "metadata": {},
     "output_type": "execute_result"
    }
   ],
   "source": [
    "pipeline_test.fit((train_data[X]), train_data[y])"
   ]
  },
  {
   "cell_type": "code",
   "execution_count": 63,
   "metadata": {},
   "outputs": [
    {
     "data": {
      "text/plain": [
       "array(['<=50K', '<=50K', '<=50K', ..., '<=50K', '>50K', '<=50K'],\n",
       "      dtype=object)"
      ]
     },
     "execution_count": 63,
     "metadata": {},
     "output_type": "execute_result"
    }
   ],
   "source": [
    "pipeline_test.predict((test_data[X]))"
   ]
  },
  {
   "cell_type": "code",
   "execution_count": 64,
   "metadata": {},
   "outputs": [
    {
     "data": {
      "text/plain": [
       "0.9997952497952498"
      ]
     },
     "execution_count": 64,
     "metadata": {},
     "output_type": "execute_result"
    }
   ],
   "source": [
    "pipeline_test.score((train_data[X]), train_data[y])"
   ]
  },
  {
   "cell_type": "code",
   "execution_count": 65,
   "metadata": {},
   "outputs": [],
   "source": [
    "classifiers = [\n",
    "    DecisionTreeClassifier(random_state=42),\n",
    "    SVC(),\n",
    "    LogisticRegression(max_iter=500),\n",
    "    KNeighborsClassifier(2)]"
   ]
  },
  {
   "cell_type": "code",
   "execution_count": 69,
   "metadata": {},
   "outputs": [
    {
     "name": "stderr",
     "output_type": "stream",
     "text": [
      "C:\\Users\\Lennart Reschke\\AppData\\Local\\Temp\\ipykernel_21100\\2968445251.py:38: FutureWarning: The frame.append method is deprecated and will be removed from pandas in a future version. Use pandas.concat instead.\n",
      "  models_df = models_df.append(pd.DataFrame(parameter_dict, index=[0]))\n",
      "C:\\Users\\Lennart Reschke\\AppData\\Local\\Temp\\ipykernel_21100\\2968445251.py:38: FutureWarning: The frame.append method is deprecated and will be removed from pandas in a future version. Use pandas.concat instead.\n",
      "  models_df = models_df.append(pd.DataFrame(parameter_dict, index=[0]))\n",
      "C:\\Users\\Lennart Reschke\\AppData\\Local\\Temp\\ipykernel_21100\\2968445251.py:38: FutureWarning: The frame.append method is deprecated and will be removed from pandas in a future version. Use pandas.concat instead.\n",
      "  models_df = models_df.append(pd.DataFrame(parameter_dict, index=[0]))\n",
      "c:\\Users\\Lennart Reschke\\anaconda3\\envs\\ads3-06-dash\\lib\\site-packages\\sklearn\\utils\\validation.py:1111: DataConversionWarning: A column-vector y was passed when a 1d array was expected. Please change the shape of y to (n_samples, ), for example using ravel().\n",
      "  y = column_or_1d(y, warn=True)\n",
      "C:\\Users\\Lennart Reschke\\AppData\\Local\\Temp\\ipykernel_21100\\2968445251.py:38: FutureWarning: The frame.append method is deprecated and will be removed from pandas in a future version. Use pandas.concat instead.\n",
      "  models_df = models_df.append(pd.DataFrame(parameter_dict, index=[0]))\n",
      "c:\\Users\\Lennart Reschke\\anaconda3\\envs\\ads3-06-dash\\lib\\site-packages\\sklearn\\utils\\validation.py:1111: DataConversionWarning: A column-vector y was passed when a 1d array was expected. Please change the shape of y to (n_samples, ), for example using ravel().\n",
      "  y = column_or_1d(y, warn=True)\n",
      "C:\\Users\\Lennart Reschke\\AppData\\Local\\Temp\\ipykernel_21100\\2968445251.py:38: FutureWarning: The frame.append method is deprecated and will be removed from pandas in a future version. Use pandas.concat instead.\n",
      "  models_df = models_df.append(pd.DataFrame(parameter_dict, index=[0]))\n",
      "c:\\Users\\Lennart Reschke\\anaconda3\\envs\\ads3-06-dash\\lib\\site-packages\\sklearn\\utils\\validation.py:1111: DataConversionWarning: A column-vector y was passed when a 1d array was expected. Please change the shape of y to (n_samples, ), for example using ravel().\n",
      "  y = column_or_1d(y, warn=True)\n",
      "C:\\Users\\Lennart Reschke\\AppData\\Local\\Temp\\ipykernel_21100\\2968445251.py:38: FutureWarning: The frame.append method is deprecated and will be removed from pandas in a future version. Use pandas.concat instead.\n",
      "  models_df = models_df.append(pd.DataFrame(parameter_dict, index=[0]))\n",
      "c:\\Users\\Lennart Reschke\\anaconda3\\envs\\ads3-06-dash\\lib\\site-packages\\sklearn\\utils\\validation.py:1111: DataConversionWarning: A column-vector y was passed when a 1d array was expected. Please change the shape of y to (n_samples, ), for example using ravel().\n",
      "  y = column_or_1d(y, warn=True)\n",
      "C:\\Users\\Lennart Reschke\\AppData\\Local\\Temp\\ipykernel_21100\\2968445251.py:38: FutureWarning: The frame.append method is deprecated and will be removed from pandas in a future version. Use pandas.concat instead.\n",
      "  models_df = models_df.append(pd.DataFrame(parameter_dict, index=[0]))\n",
      "c:\\Users\\Lennart Reschke\\anaconda3\\envs\\ads3-06-dash\\lib\\site-packages\\sklearn\\utils\\validation.py:1111: DataConversionWarning: A column-vector y was passed when a 1d array was expected. Please change the shape of y to (n_samples, ), for example using ravel().\n",
      "  y = column_or_1d(y, warn=True)\n",
      "C:\\Users\\Lennart Reschke\\AppData\\Local\\Temp\\ipykernel_21100\\2968445251.py:38: FutureWarning: The frame.append method is deprecated and will be removed from pandas in a future version. Use pandas.concat instead.\n",
      "  models_df = models_df.append(pd.DataFrame(parameter_dict, index=[0]))\n",
      "c:\\Users\\Lennart Reschke\\anaconda3\\envs\\ads3-06-dash\\lib\\site-packages\\sklearn\\utils\\validation.py:1111: DataConversionWarning: A column-vector y was passed when a 1d array was expected. Please change the shape of y to (n_samples, ), for example using ravel().\n",
      "  y = column_or_1d(y, warn=True)\n",
      "C:\\Users\\Lennart Reschke\\AppData\\Local\\Temp\\ipykernel_21100\\2968445251.py:38: FutureWarning: The frame.append method is deprecated and will be removed from pandas in a future version. Use pandas.concat instead.\n",
      "  models_df = models_df.append(pd.DataFrame(parameter_dict, index=[0]))\n",
      "c:\\Users\\Lennart Reschke\\anaconda3\\envs\\ads3-06-dash\\lib\\site-packages\\sklearn\\neighbors\\_classification.py:207: DataConversionWarning: A column-vector y was passed when a 1d array was expected. Please change the shape of y to (n_samples,), for example using ravel().\n",
      "  return self._fit(X, y)\n",
      "C:\\Users\\Lennart Reschke\\AppData\\Local\\Temp\\ipykernel_21100\\2968445251.py:38: FutureWarning: The frame.append method is deprecated and will be removed from pandas in a future version. Use pandas.concat instead.\n",
      "  models_df = models_df.append(pd.DataFrame(parameter_dict, index=[0]))\n",
      "c:\\Users\\Lennart Reschke\\anaconda3\\envs\\ads3-06-dash\\lib\\site-packages\\sklearn\\neighbors\\_classification.py:207: DataConversionWarning: A column-vector y was passed when a 1d array was expected. Please change the shape of y to (n_samples,), for example using ravel().\n",
      "  return self._fit(X, y)\n",
      "C:\\Users\\Lennart Reschke\\AppData\\Local\\Temp\\ipykernel_21100\\2968445251.py:38: FutureWarning: The frame.append method is deprecated and will be removed from pandas in a future version. Use pandas.concat instead.\n",
      "  models_df = models_df.append(pd.DataFrame(parameter_dict, index=[0]))\n",
      "c:\\Users\\Lennart Reschke\\anaconda3\\envs\\ads3-06-dash\\lib\\site-packages\\sklearn\\neighbors\\_classification.py:207: DataConversionWarning: A column-vector y was passed when a 1d array was expected. Please change the shape of y to (n_samples,), for example using ravel().\n",
      "  return self._fit(X, y)\n",
      "C:\\Users\\Lennart Reschke\\AppData\\Local\\Temp\\ipykernel_21100\\2968445251.py:38: FutureWarning: The frame.append method is deprecated and will be removed from pandas in a future version. Use pandas.concat instead.\n",
      "  models_df = models_df.append(pd.DataFrame(parameter_dict, index=[0]))\n"
     ]
    }
   ],
   "source": [
    "# 1. Erstelle Df um Ergebnisse zu storen\n",
    "models_df = pd.DataFrame()\n",
    "\n",
    "# 2. Pipeline Prep\n",
    "Pipeline_Cl = Pipeline(steps = [\n",
    "    ('preprocessor', preprocessor), \n",
    "    ('classifier',  None)\n",
    "])\n",
    "\n",
    "# 3. For Schleife per Model\n",
    "for model in classifiers:\n",
    "    for num_tr in scalers:\n",
    "        for cat_tr in cat_transformers:\n",
    "            #testen der models und num/cat transformers\n",
    "            Pipeline_Cl_params = {\n",
    "                'preprocessor__numerical__num_trans': num_tr,\n",
    "                'preprocessor__categorical__cat_trans': cat_tr,\n",
    "                'classifier': model\n",
    "            }\n",
    "            Pipeline_Cl.set_params(**Pipeline_Cl_params)\n",
    "            \n",
    "            #check performnce und fit\n",
    "            start_time = time.time()\n",
    "            fit = Pipeline_Cl.fit(test_data[X], test_data[y])\n",
    "            end_time = time.time()\n",
    "            score = Pipeline_Cl.score(test_data[X], test_data[y])\n",
    "            \n",
    "            parameter_dict = {\n",
    "                            'model': model.__class__.__name__,\n",
    "                            'num_trans': num_tr.__class__.__name__,\n",
    "                            'cat_trans': cat_tr.__class__.__name__,\n",
    "                            'score': score,\n",
    "                            'time_elapsed': end_time - start_time\n",
    "                            \n",
    "            }\n",
    "            \n",
    "            models_df = models_df.append(pd.DataFrame(parameter_dict, index=[0]))\n",
    "                    \n",
    "models_df.reset_index(drop=True, inplace=True)"
   ]
  },
  {
   "cell_type": "code",
   "execution_count": 70,
   "metadata": {},
   "outputs": [
    {
     "data": {
      "text/html": [
       "<div>\n",
       "<style scoped>\n",
       "    .dataframe tbody tr th:only-of-type {\n",
       "        vertical-align: middle;\n",
       "    }\n",
       "\n",
       "    .dataframe tbody tr th {\n",
       "        vertical-align: top;\n",
       "    }\n",
       "\n",
       "    .dataframe thead th {\n",
       "        text-align: right;\n",
       "    }\n",
       "</style>\n",
       "<table border=\"1\" class=\"dataframe\">\n",
       "  <thead>\n",
       "    <tr style=\"text-align: right;\">\n",
       "      <th></th>\n",
       "      <th>model</th>\n",
       "      <th>num_trans</th>\n",
       "      <th>cat_trans</th>\n",
       "      <th>score</th>\n",
       "      <th>time_elapsed</th>\n",
       "    </tr>\n",
       "  </thead>\n",
       "  <tbody>\n",
       "    <tr>\n",
       "      <th>0</th>\n",
       "      <td>DecisionTreeClassifier</td>\n",
       "      <td>StandardScaler</td>\n",
       "      <td>OneHotEncoder</td>\n",
       "      <td>0.999642</td>\n",
       "      <td>3.388937</td>\n",
       "    </tr>\n",
       "    <tr>\n",
       "      <th>1</th>\n",
       "      <td>DecisionTreeClassifier</td>\n",
       "      <td>MinMaxScaler</td>\n",
       "      <td>OneHotEncoder</td>\n",
       "      <td>0.999642</td>\n",
       "      <td>3.168527</td>\n",
       "    </tr>\n",
       "    <tr>\n",
       "      <th>2</th>\n",
       "      <td>DecisionTreeClassifier</td>\n",
       "      <td>RobustScaler</td>\n",
       "      <td>OneHotEncoder</td>\n",
       "      <td>0.999642</td>\n",
       "      <td>3.450768</td>\n",
       "    </tr>\n",
       "    <tr>\n",
       "      <th>10</th>\n",
       "      <td>KNeighborsClassifier</td>\n",
       "      <td>MinMaxScaler</td>\n",
       "      <td>OneHotEncoder</td>\n",
       "      <td>0.894659</td>\n",
       "      <td>0.809622</td>\n",
       "    </tr>\n",
       "    <tr>\n",
       "      <th>11</th>\n",
       "      <td>KNeighborsClassifier</td>\n",
       "      <td>RobustScaler</td>\n",
       "      <td>OneHotEncoder</td>\n",
       "      <td>0.893533</td>\n",
       "      <td>0.199883</td>\n",
       "    </tr>\n",
       "    <tr>\n",
       "      <th>9</th>\n",
       "      <td>KNeighborsClassifier</td>\n",
       "      <td>StandardScaler</td>\n",
       "      <td>OneHotEncoder</td>\n",
       "      <td>0.893098</td>\n",
       "      <td>0.187029</td>\n",
       "    </tr>\n",
       "    <tr>\n",
       "      <th>3</th>\n",
       "      <td>SVC</td>\n",
       "      <td>StandardScaler</td>\n",
       "      <td>OneHotEncoder</td>\n",
       "      <td>0.865918</td>\n",
       "      <td>120.382941</td>\n",
       "    </tr>\n",
       "    <tr>\n",
       "      <th>5</th>\n",
       "      <td>SVC</td>\n",
       "      <td>RobustScaler</td>\n",
       "      <td>OneHotEncoder</td>\n",
       "      <td>0.865892</td>\n",
       "      <td>112.585103</td>\n",
       "    </tr>\n",
       "    <tr>\n",
       "      <th>4</th>\n",
       "      <td>SVC</td>\n",
       "      <td>MinMaxScaler</td>\n",
       "      <td>OneHotEncoder</td>\n",
       "      <td>0.865508</td>\n",
       "      <td>95.821992</td>\n",
       "    </tr>\n",
       "    <tr>\n",
       "      <th>6</th>\n",
       "      <td>LogisticRegression</td>\n",
       "      <td>StandardScaler</td>\n",
       "      <td>OneHotEncoder</td>\n",
       "      <td>0.858752</td>\n",
       "      <td>1.310477</td>\n",
       "    </tr>\n",
       "    <tr>\n",
       "      <th>8</th>\n",
       "      <td>LogisticRegression</td>\n",
       "      <td>RobustScaler</td>\n",
       "      <td>OneHotEncoder</td>\n",
       "      <td>0.858752</td>\n",
       "      <td>1.183795</td>\n",
       "    </tr>\n",
       "    <tr>\n",
       "      <th>7</th>\n",
       "      <td>LogisticRegression</td>\n",
       "      <td>MinMaxScaler</td>\n",
       "      <td>OneHotEncoder</td>\n",
       "      <td>0.858496</td>\n",
       "      <td>1.760684</td>\n",
       "    </tr>\n",
       "  </tbody>\n",
       "</table>\n",
       "</div>"
      ],
      "text/plain": [
       "                     model       num_trans      cat_trans     score  \\\n",
       "0   DecisionTreeClassifier  StandardScaler  OneHotEncoder  0.999642   \n",
       "1   DecisionTreeClassifier    MinMaxScaler  OneHotEncoder  0.999642   \n",
       "2   DecisionTreeClassifier    RobustScaler  OneHotEncoder  0.999642   \n",
       "10    KNeighborsClassifier    MinMaxScaler  OneHotEncoder  0.894659   \n",
       "11    KNeighborsClassifier    RobustScaler  OneHotEncoder  0.893533   \n",
       "9     KNeighborsClassifier  StandardScaler  OneHotEncoder  0.893098   \n",
       "3                      SVC  StandardScaler  OneHotEncoder  0.865918   \n",
       "5                      SVC    RobustScaler  OneHotEncoder  0.865892   \n",
       "4                      SVC    MinMaxScaler  OneHotEncoder  0.865508   \n",
       "6       LogisticRegression  StandardScaler  OneHotEncoder  0.858752   \n",
       "8       LogisticRegression    RobustScaler  OneHotEncoder  0.858752   \n",
       "7       LogisticRegression    MinMaxScaler  OneHotEncoder  0.858496   \n",
       "\n",
       "    time_elapsed  \n",
       "0       3.388937  \n",
       "1       3.168527  \n",
       "2       3.450768  \n",
       "10      0.809622  \n",
       "11      0.199883  \n",
       "9       0.187029  \n",
       "3     120.382941  \n",
       "5     112.585103  \n",
       "4      95.821992  \n",
       "6       1.310477  \n",
       "8       1.183795  \n",
       "7       1.760684  "
      ]
     },
     "execution_count": 70,
     "metadata": {},
     "output_type": "execute_result"
    }
   ],
   "source": [
    "models_df.sort_values('score', ascending=False)"
   ]
  },
  {
   "cell_type": "code",
   "execution_count": 72,
   "metadata": {},
   "outputs": [
    {
     "data": {
      "text/html": [
       "<div>\n",
       "<style scoped>\n",
       "    .dataframe tbody tr th:only-of-type {\n",
       "        vertical-align: middle;\n",
       "    }\n",
       "\n",
       "    .dataframe tbody tr th {\n",
       "        vertical-align: top;\n",
       "    }\n",
       "\n",
       "    .dataframe thead th {\n",
       "        text-align: right;\n",
       "    }\n",
       "</style>\n",
       "<table border=\"1\" class=\"dataframe\">\n",
       "  <thead>\n",
       "    <tr style=\"text-align: right;\">\n",
       "      <th></th>\n",
       "      <th>age</th>\n",
       "      <th>workclass</th>\n",
       "      <th>fnlwgt</th>\n",
       "      <th>education</th>\n",
       "      <th>education-num</th>\n",
       "      <th>marital_status</th>\n",
       "      <th>occupation</th>\n",
       "      <th>relationship</th>\n",
       "      <th>race</th>\n",
       "      <th>sex</th>\n",
       "      <th>capitalgain</th>\n",
       "      <th>capitalloss</th>\n",
       "      <th>hoursperweek</th>\n",
       "      <th>native-country</th>\n",
       "      <th>class</th>\n",
       "    </tr>\n",
       "  </thead>\n",
       "  <tbody>\n",
       "    <tr>\n",
       "      <th>0</th>\n",
       "      <td>2</td>\n",
       "      <td>State-gov</td>\n",
       "      <td>77516</td>\n",
       "      <td>Bachelors</td>\n",
       "      <td>13</td>\n",
       "      <td>Never-married</td>\n",
       "      <td>Adm-clerical</td>\n",
       "      <td>Not-in-family</td>\n",
       "      <td>White</td>\n",
       "      <td>Male</td>\n",
       "      <td>1</td>\n",
       "      <td>0</td>\n",
       "      <td>2</td>\n",
       "      <td>United-States</td>\n",
       "      <td>&lt;=50K</td>\n",
       "    </tr>\n",
       "    <tr>\n",
       "      <th>1</th>\n",
       "      <td>3</td>\n",
       "      <td>Self-emp-not-inc</td>\n",
       "      <td>83311</td>\n",
       "      <td>Bachelors</td>\n",
       "      <td>13</td>\n",
       "      <td>Married-civ-spouse</td>\n",
       "      <td>Exec-managerial</td>\n",
       "      <td>Husband</td>\n",
       "      <td>White</td>\n",
       "      <td>Male</td>\n",
       "      <td>0</td>\n",
       "      <td>0</td>\n",
       "      <td>0</td>\n",
       "      <td>United-States</td>\n",
       "      <td>&lt;=50K</td>\n",
       "    </tr>\n",
       "    <tr>\n",
       "      <th>2</th>\n",
       "      <td>2</td>\n",
       "      <td>Private</td>\n",
       "      <td>215646</td>\n",
       "      <td>HS-grad</td>\n",
       "      <td>9</td>\n",
       "      <td>Divorced</td>\n",
       "      <td>Handlers-cleaners</td>\n",
       "      <td>Not-in-family</td>\n",
       "      <td>White</td>\n",
       "      <td>Male</td>\n",
       "      <td>0</td>\n",
       "      <td>0</td>\n",
       "      <td>2</td>\n",
       "      <td>United-States</td>\n",
       "      <td>&lt;=50K</td>\n",
       "    </tr>\n",
       "    <tr>\n",
       "      <th>3</th>\n",
       "      <td>3</td>\n",
       "      <td>Private</td>\n",
       "      <td>234721</td>\n",
       "      <td>11th</td>\n",
       "      <td>7</td>\n",
       "      <td>Married-civ-spouse</td>\n",
       "      <td>Handlers-cleaners</td>\n",
       "      <td>Husband</td>\n",
       "      <td>Black</td>\n",
       "      <td>Male</td>\n",
       "      <td>0</td>\n",
       "      <td>0</td>\n",
       "      <td>2</td>\n",
       "      <td>United-States</td>\n",
       "      <td>&lt;=50K</td>\n",
       "    </tr>\n",
       "    <tr>\n",
       "      <th>4</th>\n",
       "      <td>1</td>\n",
       "      <td>Private</td>\n",
       "      <td>338409</td>\n",
       "      <td>Bachelors</td>\n",
       "      <td>13</td>\n",
       "      <td>Married-civ-spouse</td>\n",
       "      <td>Prof-specialty</td>\n",
       "      <td>Wife</td>\n",
       "      <td>Black</td>\n",
       "      <td>Female</td>\n",
       "      <td>0</td>\n",
       "      <td>0</td>\n",
       "      <td>2</td>\n",
       "      <td>Cuba</td>\n",
       "      <td>&lt;=50K</td>\n",
       "    </tr>\n",
       "  </tbody>\n",
       "</table>\n",
       "</div>"
      ],
      "text/plain": [
       "   age         workclass  fnlwgt  education  education-num  \\\n",
       "0    2         State-gov   77516  Bachelors             13   \n",
       "1    3  Self-emp-not-inc   83311  Bachelors             13   \n",
       "2    2           Private  215646    HS-grad              9   \n",
       "3    3           Private  234721       11th              7   \n",
       "4    1           Private  338409  Bachelors             13   \n",
       "\n",
       "       marital_status         occupation   relationship   race     sex  \\\n",
       "0       Never-married       Adm-clerical  Not-in-family  White    Male   \n",
       "1  Married-civ-spouse    Exec-managerial        Husband  White    Male   \n",
       "2            Divorced  Handlers-cleaners  Not-in-family  White    Male   \n",
       "3  Married-civ-spouse  Handlers-cleaners        Husband  Black    Male   \n",
       "4  Married-civ-spouse     Prof-specialty           Wife  Black  Female   \n",
       "\n",
       "   capitalgain  capitalloss  hoursperweek native-country  class  \n",
       "0            1            0             2  United-States  <=50K  \n",
       "1            0            0             0  United-States  <=50K  \n",
       "2            0            0             2  United-States  <=50K  \n",
       "3            0            0             2  United-States  <=50K  \n",
       "4            0            0             2           Cuba  <=50K  "
      ]
     },
     "execution_count": 72,
     "metadata": {},
     "output_type": "execute_result"
    }
   ],
   "source": [
    "df_raw.head()"
   ]
  },
  {
   "cell_type": "code",
   "execution_count": 78,
   "metadata": {},
   "outputs": [],
   "source": [
    "y_pred = Pipeline_Cl.predict(test_data[X])"
   ]
  },
  {
   "cell_type": "code",
   "execution_count": 79,
   "metadata": {},
   "outputs": [
    {
     "data": {
      "image/png": "[encoded data removed]",
      "text/plain": [
       "<Figure size 640x480 with 2 Axes>"
      ]
     },
     "metadata": {},
     "output_type": "display_data"
    }
   ],
   "source": [
    "import matplotlib.pyplot as plt\n",
    "from sklearn.datasets import make_classification\n",
    "from sklearn.metrics import ConfusionMatrixDisplay\n",
    "\n",
    "ConfusionMatrixDisplay.from_predictions(\n",
    "    test_data[y], y_pred\n",
    ")\n",
    "plt.show()"
   ]
  }
 ],
 "metadata": {
  "kernelspec": {
   "display_name": "Python 3.9.13 ('ads3-06-dash')",
   "language": "python",
   "name": "python3"
  },
  "language_info": {
   "codemirror_mode": {
    "name": "ipython",
    "version": 3
   },
   "file_extension": ".py",
   "mimetype": "text/x-python",
   "name": "python",
   "nbconvert_exporter": "python",
   "pygments_lexer": "ipython3",
   "version": "3.9.13"
  },
  "orig_nbformat": 4,
  "vscode": {
   "interpreter": {
    "hash": "5066f43cbdb50b7e936b6698a776ae97eba15283ce8e73aa61b85eaef22cd248"
   }
  }
 },
 "nbformat": 4,
 "nbformat_minor": 2
}
